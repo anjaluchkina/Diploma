{
  "cells": [
    {
      "cell_type": "code",
      "execution_count": 1,
      "metadata": {
        "id": "HcTbWOpkAou_"
      },
      "outputs": [],
      "source": [
        "# Импортирование библиотек\n",
        "import pandas as pd\n",
        "import matplotlib.pyplot as plt\n",
        "import seaborn as sns"
      ]
    },
    {
      "cell_type": "code",
      "execution_count": null,
      "metadata": {
        "id": "gDa5ckFXCAMY"
      },
      "outputs": [],
      "source": [
        "# Загрузка данных из CSV-файла\n",
        "df = pd.read_csv('/content/ab_stats.csv')"
      ]
    },
    {
      "cell_type": "code",
      "execution_count": null,
      "metadata": {
        "colab": {
          "base_uri": "https://localhost:8080/"
        },
        "collapsed": true,
        "id": "SVxenriuClPN",
        "outputId": "0b2656f2-5f52-4148-a591-e003ad958b38"
      },
      "outputs": [
        {
          "name": "stdout",
          "output_type": "stream",
          "text": [
            "   revenue  num_purchases  purchase ab_group  av_site visit\n",
            "0      0.0              0         0        A       9.040174\n",
            "1      0.0              0         0        A       4.811628\n",
            "2      0.0              0         0        A       7.342623\n",
            "3      0.0              0         0        A       7.744581\n",
            "4      0.0              0         0        A      10.511814\n"
          ]
        }
      ],
      "source": [
        "# Просмотр первых 5 строк\n",
        "print(df.head())"
      ]
    },
    {
      "cell_type": "code",
      "execution_count": null,
      "metadata": {
        "colab": {
          "base_uri": "https://localhost:8080/"
        },
        "collapsed": true,
        "id": "4yDEkDrgCnui",
        "outputId": "90c7b5f9-6216-4baf-80b1-2deb2d67e813"
      },
      "outputs": [
        {
          "name": "stdout",
          "output_type": "stream",
          "text": [
            "<class 'pandas.core.frame.DataFrame'>\n",
            "RangeIndex: 23652 entries, 0 to 23651\n",
            "Data columns (total 5 columns):\n",
            " #   Column         Non-Null Count  Dtype  \n",
            "---  ------         --------------  -----  \n",
            " 0   revenue        23652 non-null  float64\n",
            " 1   num_purchases  23652 non-null  int64  \n",
            " 2   purchase       23652 non-null  int64  \n",
            " 3   ab_group       23652 non-null  object \n",
            " 4   av_site visit  23652 non-null  float64\n",
            "dtypes: float64(2), int64(2), object(1)\n",
            "memory usage: 924.0+ KB\n",
            "None\n"
          ]
        }
      ],
      "source": [
        "# Информация о структуре данных\n",
        "print(df.info())"
      ]
    },
    {
      "cell_type": "code",
      "execution_count": null,
      "metadata": {
        "colab": {
          "base_uri": "https://localhost:8080/"
        },
        "collapsed": true,
        "id": "mmz4oQHfCqKP",
        "outputId": "77cf66f8-fc10-4878-e7dc-68171c2c6415"
      },
      "outputs": [
        {
          "name": "stdout",
          "output_type": "stream",
          "text": [
            "            revenue  num_purchases      purchase  av_site visit\n",
            "count  23652.000000   23652.000000  23652.000000   23652.000000\n",
            "mean       0.324689       0.043590      0.020717       7.013112\n",
            "std        9.557730       1.079403      0.142438       3.154584\n",
            "min        0.000000       0.000000      0.000000     -12.073486\n",
            "25%        0.000000       0.000000      0.000000       5.173787\n",
            "50%        0.000000       0.000000      0.000000       7.007936\n",
            "75%        0.000000       0.000000      0.000000       8.864119\n",
            "max     1303.609284     152.000000      1.000000      22.446822\n"
          ]
        }
      ],
      "source": [
        "# Описательная статистика\n",
        "print(df.describe())"
      ]
    },
    {
      "cell_type": "code",
      "execution_count": null,
      "metadata": {
        "colab": {
          "base_uri": "https://localhost:8080/",
          "height": 487
        },
        "id": "bwGKCThiDpr6",
        "outputId": "736e4ec7-db85-4a28-b707-7550ab5618d7"
      },
      "outputs": [
        {
          "data": {
            "image/png": "[encoded data removed]",
            "text/plain": [
              "<Figure size 1000x500 with 1 Axes>"
            ]
          },
          "metadata": {},
          "output_type": "display_data"
        }
      ],
      "source": [
        "# Визуализация количества покупок по группам\n",
        "plt.figure(figsize=(10, 5))\n",
        "sns.barplot(x='ab_group', y='num_purchases', data=aggregated_data)\n",
        "plt.title('Количество покупок по группам')\n",
        "plt.xlabel('Группа (AB)')\n",
        "plt.ylabel('Количество покупок')\n",
        "plt.show()"
      ]
    }
  ],
  "metadata": {
    "colab": {
      "provenance": []
    },
    "kernelspec": {
      "display_name": "Python 3",
      "name": "python3"
    },
    "language_info": {
      "codemirror_mode": {
        "name": "ipython",
        "version": 3
      },
      "file_extension": ".py",
      "mimetype": "text/x-python",
      "name": "python",
      "nbconvert_exporter": "python",
      "pygments_lexer": "ipython3",
      "version": "3.10.9"
    }
  },
  "nbformat": 4,
  "nbformat_minor": 0
}
